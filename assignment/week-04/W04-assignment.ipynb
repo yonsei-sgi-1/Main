{
 "cells": [
  {
   "cell_type": "markdown",
   "metadata": {},
   "source": [
    "## 1. 정사각형 그리기 (3점)\n",
    "- for 문을 사용하여 주어진 변수 n을 조절 함에 따라 *의 개수를 조절하여 정사각형을 다음과 같이 만들어주세요\n",
    "- 아래의 예시는 for문을 사용하지 않고 작성했을때의 예시입니다"
   ]
  },
  {
   "cell_type": "code",
   "execution_count": null,
   "metadata": {},
   "outputs": [],
   "source": [
    "# for 문을 사용하지 않을시\n",
    "print(\"n=3\")\n",
    "square = \"***\\n***\\n***\"\n",
    "print(square)\n",
    "#n이 4일때\n",
    "print(\"n=4\")\n",
    "square = \"****\\n****\\n****\\n****\"\n",
    "print(square)"
   ]
  },
  {
   "cell_type": "code",
   "execution_count": null,
   "metadata": {},
   "outputs": [],
   "source": [
    "#for 문을 사용하여 작성해주세요!\n",
    "n=3\n",
    "square=''\n",
    "#TODO\n",
    "\n",
    "print(square)"
   ]
  },
  {
   "cell_type": "markdown",
   "metadata": {},
   "source": [
    "## 2. 삼각형 그리기 (3점)\n",
    "- 1번 문제와 마찬가지로 for 문을 사용하여 삼각형을 그려주세요\n",
    "- 아래의 예시는 for문을 사용하지 않고 작성했을때의 예시입니다"
   ]
  },
  {
   "cell_type": "code",
   "execution_count": null,
   "metadata": {},
   "outputs": [],
   "source": [
    "#for 문을 사용하지 않을시의 예시\n",
    "#n이 3일때\n",
    "print(\"n=3\")\n",
    "triangle = \"  *\\n ***\\n*****\"\n",
    "print(triangle)\n",
    "#n이 4일때\n",
    "print(\"n=4\")\n",
    "triangle = \"   *\\n  ***\\n *****\\n*******\"\n",
    "print(triangle)"
   ]
  },
  {
   "cell_type": "code",
   "execution_count": null,
   "metadata": {},
   "outputs": [],
   "source": [
    "### for문을 활용하여, 위와 같이 삼각형을 그리시오\n",
    "n=3\n",
    "triangle = \"\"\n",
    "#TODO\n",
    "\n",
    "print(triangle)"
   ]
  },
  {
   "cell_type": "markdown",
   "metadata": {},
   "source": [
    "## 3. 영어 한글 구별  (3점)\n",
    "주어진 문자열이 한글인지 영어인지 구분하는 조건문을 만들어주세요! 문자가 섞여있거나 숫자형 변수는 고려하지 않습니다\n",
    "- hint1: 한글은 대소문자 구별이 없습니다.\n",
    "- hint2: 정규식을 사용하셔도 좋습니다.\n",
    "- hint3: 크기비교를 하셔도 좋습니다.\n",
    "- 주의: 데이터 1,2,3를 다 다른방식으로 사용하시라는게 아니라 위의 세가지중 자유롭게 사용하시면 됩니다"
   ]
  },
  {
   "cell_type": "code",
   "execution_count": null,
   "metadata": {},
   "outputs": [],
   "source": [
    "is_english = False\n",
    "\n",
    "data1 = '한글'\n",
    "data2 = 'english'\n",
    "data3 = 'ENGLISH'\n",
    "\n",
    "\n",
    "if data1:#TODO\n",
    "    is_english = True\n",
    "else:\n",
    "    is_english = False\n",
    "print(\"{}는 영어입니까?: {}\".format(data1, is_english))\n",
    "\n",
    "\n",
    "if data2:#TODO\n",
    "    is_english = True\n",
    "else:\n",
    "    is_english = False\n",
    "print(\"{}는 영어입니까?: {}\".format(data2, is_english))\n",
    "\n",
    "\n",
    "if data3:#TODO\n",
    "    is_english = True\n",
    "else:\n",
    "    is_english = False\n",
    "print(\"{}는 영어입니까?: {}\".format(data3, is_english))"
   ]
  },
  {
   "cell_type": "markdown",
   "metadata": {},
   "source": [
    "## 4. 데이터 전처리 맛보기"
   ]
  },
  {
   "cell_type": "markdown",
   "metadata": {},
   "source": [
    "### 4-1. 전화번호 포맷 통일시키기  (3점)\n",
    "전화번호 데이터를 입력 받았는데, 입력 받은 포맷이 전부 달라서 사용하기에 어려움이 있습니다. 공백 및 - 없이 전화번호를 재구성해주세요!\n",
    "- 올바른 출력: ['01012341234', '01012341234', '01012341234']\n",
    "- hint: replace"
   ]
  },
  {
   "cell_type": "code",
   "execution_count": null,
   "metadata": {},
   "outputs": [],
   "source": [
    "phone_numbers =['01012341234', '010-1234-1234', '010 1234 1234']\n",
    "for index, phone_number in enumerate(phone_numbers):\n",
    "    #TODO 이곳에서 번호를 변경해주세요!\n",
    "    phone_numbers[index] = phone_number\n",
    "\n",
    "print(phone_numbers)"
   ]
  },
  {
   "cell_type": "markdown",
   "metadata": {},
   "source": [
    "### 4-2. string으로 이루어진 list를 dictionary로  (3점)\n",
    "- 학생들의 시험 점수를 받았는데, list 형태로 되어 있어서, 누가 몇점을 받았는지 바로 확인하기가 어렵습니다. list로 되어 있는 데이터를 dictionary 로 만들어주세요!\n",
    "- 올바른 출력: {'흥민': '80', '연경': '95', '연아': '90'}\n"
   ]
  },
  {
   "cell_type": "code",
   "execution_count": null,
   "metadata": {},
   "outputs": [],
   "source": [
    "scores = ['흥민 80', '연경 95', '연아 90']\n",
    "scores_dict = {}\n",
    "\n",
    "for score in scores:\n",
    "    #TODO 이곳에서 이름과 점수로 각각의 string 분리하고 이름을 key로 점수를 value로 사용해주세요\n",
    "    scores_dict['흥민'] = 100\n",
    "    \n",
    "scores_dict"
   ]
  },
  {
   "cell_type": "markdown",
   "metadata": {},
   "source": [
    "## 5. 텍스트 파일 다루기"
   ]
  },
  {
   "cell_type": "markdown",
   "metadata": {},
   "source": [
    "### 5.1 scores가 현재 원소가 string인 list로 구현되어 있습니다. 각각의 string을 tuple 형태로 변경해주세요  (3점)\n",
    "- hint: for 문을 활용해 각각을 split 명령어로 분리 후 tuple로 변경 (casting)\n",
    "- 변경전: ['흥민, 수학, 85\\n','연경, 수학, 90\\n',..]\n",
    "- 변경후: [('흥민,', '수학,', '85'), ('연경,', '수학,', '90'),..]"
   ]
  },
  {
   "cell_type": "code",
   "execution_count": null,
   "metadata": {},
   "outputs": [],
   "source": [
    "scores = []\n",
    "with open('data.txt','r',encoding='utf-8') as f:\n",
    "    scores = f.readlines()\n",
    "\n",
    "\n",
    "for index, score in enumerate(scores):\n",
    "    #TODO 이곳에서 단순 score변수를 입력하는게 아니라 추가적인 작업을 해주셔야합니다.\n",
    "    scores[index] = score\n",
    "scores"
   ]
  },
  {
   "cell_type": "markdown",
   "metadata": {},
   "source": [
    "### 5.2 현재 tuple 내에는 쉼표가 포함되어 있습니다. 쉼표를 제거해주세요!  (3점)\n",
    "- hint: tuple내의 원소를 각각 접근하여,replace 함수를 사용하여 쉼표를제거\n",
    "- 변경전: [('흥민,', '수학,', '85'), ('연경,', '수학,', '90'),..]\n",
    "- 변경후: [('흥민', '수학', '85'), ('연경', '수학', '90'),..]"
   ]
  },
  {
   "cell_type": "code",
   "execution_count": null,
   "metadata": {},
   "outputs": [],
   "source": [
    "new_scores = scores.copy()\n",
    "for index, score in enumerate(scores):\n",
    "    #TODO 이곳에서 단순 score변수를 입력하는게 아니라 추가적인 작업을 해주셔야합니다.\n",
    "    new_scores[index] = score\n",
    "print(new_scores)"
   ]
  },
  {
   "cell_type": "markdown",
   "metadata": {},
   "source": [
    "### 5.3 흥민이의 총점은 몇 점일까요?  (3점)\n"
   ]
  },
  {
   "cell_type": "code",
   "execution_count": null,
   "metadata": {},
   "outputs": [],
   "source": [
    "### 5.3 흥민이의 총점은 몇 점일까요?\n",
    "heungmin_score = 0\n",
    "for index, score in enumerate(scores):\n",
    "    #TODO 이곳에서 if 문을 사용하여 흥민이의 점수만 골라주세요!\n",
    "    heungmin_score += 0\n",
    "heungmin_score"
   ]
  }
 ],
 "metadata": {
  "kernelspec": {
   "display_name": "Python 3",
   "language": "python",
   "name": "python3"
  },
  "language_info": {
   "codemirror_mode": {
    "name": "ipython",
    "version": 3
   },
   "file_extension": ".py",
   "mimetype": "text/x-python",
   "name": "python",
   "nbconvert_exporter": "python",
   "pygments_lexer": "ipython3",
   "version": "3.7.6"
  }
 },
 "nbformat": 4,
 "nbformat_minor": 4
}
