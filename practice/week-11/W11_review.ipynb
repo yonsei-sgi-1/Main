{
 "cells": [
  {
   "cell_type": "markdown",
   "metadata": {},
   "source": [
    "# BIG DATA ANALYTICS PROGRAMMING : Review\n"
   ]
  },
  {
   "cell_type": "markdown",
   "metadata": {},
   "source": [
    "## 1. Print\n",
    "- Hello Wolrd를 출력하세요!"
   ]
  },
  {
   "cell_type": "code",
   "execution_count": null,
   "metadata": {},
   "outputs": [],
   "source": [
    "#TODO"
   ]
  },
  {
   "cell_type": "markdown",
   "metadata": {},
   "source": [
    "## 2. 아래 두 Print 문의 결과가 한줄로 표시되게 하세요.\n",
    "- 문자열을 합쳐 print문을 하나로 만들면 오답"
   ]
  },
  {
   "cell_type": "code",
   "execution_count": null,
   "metadata": {},
   "outputs": [],
   "source": [
    "print(\"Hello\")\n",
    "print(\"World\")"
   ]
  },
  {
   "cell_type": "markdown",
   "metadata": {},
   "source": [
    "## 3. 다음 이름 변수를 결합하여 하나의 문자열로 만들어주세요.\n",
    "- 문자열을 직접 변형하면 오답\n",
    "- 올바른 출력: 안녕하세요 저는 홍길동입니다"
   ]
  },
  {
   "cell_type": "code",
   "execution_count": null,
   "metadata": {},
   "outputs": [],
   "source": [
    "user_name = \"홍길동\"\n",
    "greeting = \"안녕하세요 저는 000입니다\"\n",
    "print(greeting)"
   ]
  },
  {
   "cell_type": "markdown",
   "metadata": {},
   "source": [
    "## 4. 비트코인 1개의 가격은 현재 32000달러입니다. 제가 1.65개의 비트코인을 갖고 있을때 저의 총 재산은 얼마인가요?\n",
    "- 숫자를 직접 입력하면 오답"
   ]
  },
  {
   "cell_type": "code",
   "execution_count": null,
   "metadata": {},
   "outputs": [],
   "source": [
    "btc_price = 32000\n",
    "num_of_btc = 1.65\n",
    "total_price = 0 \n",
    "print(total_price)"
   ]
  },
  {
   "cell_type": "markdown",
   "metadata": {},
   "source": [
    "## 5. 한 달 월급이 400만원입니다. 집세가 104만원 일때, 집세를 제외한 하루 생활비는 얼마일까요?\n",
    "- 한달은 30일로 고정\n",
    "- 소숫점 없이 표시"
   ]
  },
  {
   "cell_type": "code",
   "execution_count": null,
   "metadata": {},
   "outputs": [],
   "source": [
    "monthly_salary = 4000000\n",
    "rent = 1040000\n",
    "days = 30\n",
    "money_per_day = 0\n",
    "print(money_per_day)"
   ]
  },
  {
   "cell_type": "markdown",
   "metadata": {},
   "source": [
    "## 6. 다음 문자열 \"빅데이터 분석 프로그래밍\"에서 \"터\",와 \"로\"만 출력해주세요\n",
    "- 문자를 직접 입력하면 오답"
   ]
  },
  {
   "cell_type": "code",
   "execution_count": null,
   "metadata": {},
   "outputs": [],
   "source": [
    "text = \"빅데이터 분석 프로그래밍\"\n",
    "print()"
   ]
  },
  {
   "cell_type": "markdown",
   "metadata": {},
   "source": [
    "## 7. 다음 문자열에서 1234부분만 추출해주세요\n",
    "- 문자를 직접 입력하면 오답"
   ]
  },
  {
   "cell_type": "code",
   "execution_count": null,
   "metadata": {},
   "outputs": [],
   "source": [
    "text = \"02-9876-1234\"\n",
    "print(text)"
   ]
  },
  {
   "cell_type": "markdown",
   "metadata": {},
   "source": [
    "## 8. 다음 문자열에서 짝수들만 출력하세요\n",
    "- 직접 입력시 오답"
   ]
  },
  {
   "cell_type": "code",
   "execution_count": null,
   "metadata": {},
   "outputs": [],
   "source": [
    "text = \"0123456789\"\n",
    "print(text)"
   ]
  },
  {
   "cell_type": "markdown",
   "metadata": {},
   "source": [
    "## 9. 다음 문자열을 역순으로 바꿔주세요.\n",
    "- 직접 입력시 오답"
   ]
  },
  {
   "cell_type": "code",
   "execution_count": null,
   "metadata": {},
   "outputs": [],
   "source": [
    "text = \"가나다라마바사아자차카타파하\"\n",
    "print(text)"
   ]
  },
  {
   "cell_type": "markdown",
   "metadata": {},
   "source": [
    "## 10. 다음 전화번호에서 -를 빼고 출력해주세요."
   ]
  },
  {
   "cell_type": "code",
   "execution_count": null,
   "metadata": {},
   "outputs": [],
   "source": [
    "text = \"02-1234-5678\"\n",
    "print(text)"
   ]
  },
  {
   "cell_type": "markdown",
   "metadata": {},
   "source": [
    "## 11. 다음 URL 들의 마지막 부분(com, org, kr 등)을 출력해주세요\n",
    "- 슬라이싱으로 접근하면 오답"
   ]
  },
  {
   "cell_type": "code",
   "execution_count": null,
   "metadata": {},
   "outputs": [],
   "source": [
    "url = \"https://google.com\"\n",
    "print(url)\n",
    "url = \"https://www.yonsei.ac.kr\"\n",
    "print(url)\n",
    "url = \"http://www.president.go.kr/\"\n",
    "print(url)"
   ]
  },
  {
   "cell_type": "markdown",
   "metadata": {},
   "source": [
    "## 12. 다음 리스트를 내림차순으로 정렬해주세요"
   ]
  },
  {
   "cell_type": "code",
   "execution_count": null,
   "metadata": {},
   "outputs": [],
   "source": [
    "a = [1,8,5,3,0,1,2,4,7]\n",
    "print(a)"
   ]
  },
  {
   "cell_type": "markdown",
   "metadata": {},
   "source": [
    "## 13. 다음 리스트에서 호랑이의 개수를 구해주세요\n",
    "- for문 사용시 오답"
   ]
  },
  {
   "cell_type": "code",
   "execution_count": null,
   "metadata": {},
   "outputs": [],
   "source": [
    "a =[\"호랑이\",\"고양이\",\"호랑이\",\"당나귀\",\"말\",\"곰\",\"개\",\"앵무새\",\"닭\",\"호랑이\"]\n",
    "num_of_tiger = 0\n",
    "print(num_of_tiger)"
   ]
  },
  {
   "cell_type": "markdown",
   "metadata": {},
   "source": [
    "## 14. 다음 리스트의 원소의 개수를 구해주세요\n",
    "- for 문을 사용하면 오답"
   ]
  },
  {
   "cell_type": "code",
   "execution_count": null,
   "metadata": {},
   "outputs": [],
   "source": [
    "a = [1,2,3,4,5,6,7,7,5,4,3,4,21,34,35,33,]\n",
    "num_of_elements = 0\n",
    "print(num_of_elements)"
   ]
  },
  {
   "cell_type": "markdown",
   "metadata": {},
   "source": [
    "## 15. 다음 리스트의 평균을 구해주세요\n",
    "- for 문을 사용하면 오답"
   ]
  },
  {
   "cell_type": "code",
   "execution_count": null,
   "metadata": {},
   "outputs": [],
   "source": [
    "a = [1,2,3,4,5,6,7,7,5,4,3,4,21,34,35,33,]\n",
    "average = 0\n",
    "print(average)"
   ]
  },
  {
   "cell_type": "markdown",
   "metadata": {},
   "source": [
    "## 16. 다음 리스트에 원소를 하나 추가해주세요 (뒤에)"
   ]
  },
  {
   "cell_type": "code",
   "execution_count": null,
   "metadata": {},
   "outputs": [],
   "source": [
    "a = [\"존윅\",\"제임스본드\",\"제이슨본\"]\n",
    "person = \"이단헌트\"\n",
    "#TODO\n",
    "print(a)"
   ]
  },
  {
   "cell_type": "markdown",
   "metadata": {},
   "source": [
    "## 17. 다음 리스트에 원소를 하나 추가해주세요 (앞에)"
   ]
  },
  {
   "cell_type": "code",
   "execution_count": null,
   "metadata": {},
   "outputs": [],
   "source": [
    "a = [\"존윅\",\"제임스본드\",\"제이슨본\"]\n",
    "person = \"이단헌트\"\n",
    "#TODO\n",
    "print(a)"
   ]
  },
  {
   "cell_type": "markdown",
   "metadata": {},
   "source": [
    "## 18. 다음 리스트에 원소를 하나 추가해주세요 (2번째에)"
   ]
  },
  {
   "cell_type": "code",
   "execution_count": null,
   "metadata": {},
   "outputs": [],
   "source": [
    "a = [\"존윅\",\"제임스본드\",\"제이슨본\"]\n",
    "person = \"이단헌트\"\n",
    "#TODO\n",
    "print(a)"
   ]
  },
  {
   "cell_type": "markdown",
   "metadata": {},
   "source": [
    "## 19. 다음 리스트에서 첫번째 원소를 삭제해주세요"
   ]
  },
  {
   "cell_type": "code",
   "execution_count": null,
   "metadata": {},
   "outputs": [],
   "source": [
    "a = [\"존윅\",\"제임스본드\",\"제이슨본\"]\n",
    "#TODO\n",
    "print(a)"
   ]
  },
  {
   "cell_type": "markdown",
   "metadata": {},
   "source": [
    "## 20. 다음 리스트에서 \"제임스본드\"를 삭제해주세요\n",
    "- 인덱스를 직접 입력하면 오답"
   ]
  },
  {
   "cell_type": "code",
   "execution_count": null,
   "metadata": {},
   "outputs": [],
   "source": [
    "a = [\"존윅\",\"제임스본드\",\"제이슨본\"]\n",
    "#TODO\n",
    "print(a)"
   ]
  },
  {
   "cell_type": "markdown",
   "metadata": {},
   "source": [
    "## 21. 다음 리스트에 있는 전화번호를 '-'을 활용하여 string으로 만들어주세요"
   ]
  },
  {
   "cell_type": "code",
   "execution_count": null,
   "metadata": {},
   "outputs": [],
   "source": [
    "a = [\"02\",\"1234\",\"1234\"]\n",
    "#TODO\n",
    "phone_number = \"\"\n",
    "print(phone_number)"
   ]
  },
  {
   "cell_type": "markdown",
   "metadata": {},
   "source": [
    "## 22. 다음 리스트의 Unique한(중복없이) 원소의 개수를 구해주세요"
   ]
  },
  {
   "cell_type": "code",
   "execution_count": null,
   "metadata": {},
   "outputs": [],
   "source": [
    "a =[\"호랑이\",\"고양이\",\"호랑이\",\"당나귀\",\"말\",\"곰\",\"개\",\"말\",\"곰\",\"호랑이\"]\n",
    "num_of_animal_type = 0\n",
    "print(num_of_animal_type)"
   ]
  },
  {
   "cell_type": "markdown",
   "metadata": {},
   "source": [
    "## 23. 다음 딕셔너리에서 도지코인(DOGE) 200원 정보를 입력해주세요."
   ]
  },
  {
   "cell_type": "code",
   "execution_count": null,
   "metadata": {},
   "outputs": [],
   "source": [
    "coins = {\n",
    "    \"BTC\": 38000000,\n",
    "    \"ETH\": 2300000,\n",
    "    \"XRP\": 600\n",
    "}\n",
    "print(coins)"
   ]
  },
  {
   "cell_type": "markdown",
   "metadata": {},
   "source": [
    "## 24. 아래 오류를 해결해주세요"
   ]
  },
  {
   "cell_type": "code",
   "execution_count": null,
   "metadata": {},
   "outputs": [],
   "source": [
    "a = {\n",
    "    1:\"a\",\n",
    "    2:\"b\",\n",
    "    3:\"c\"\n",
    "}\n",
    "print(a[\"1\"])"
   ]
  },
  {
   "cell_type": "markdown",
   "metadata": {},
   "source": [
    "## 25. 다음 딕셔너리의 값들만 뽑아주세요"
   ]
  },
  {
   "cell_type": "code",
   "execution_count": null,
   "metadata": {},
   "outputs": [],
   "source": [
    "coins = {\n",
    "    \"BTC\": 38000000,\n",
    "    \"ETH\": 2300000,\n",
    "    \"XRP\": 600\n",
    "}\n",
    "#TODO\n",
    "values = None\n",
    "print(values)"
   ]
  },
  {
   "cell_type": "markdown",
   "metadata": {},
   "source": [
    "## 26. 다음 딕셔너리를 점수 기준 내림차순으로 정렬해주세요"
   ]
  },
  {
   "cell_type": "code",
   "execution_count": null,
   "metadata": {},
   "outputs": [],
   "source": [
    "scores = {\n",
    "    \"손흥민\": 30,\n",
    "    \"김연경\": 80,\n",
    "    \"김연아\": 50,\n",
    "    \"류현진\": 99\n",
    "}\n",
    "#TODO\n",
    "score_sorted = None\n",
    "\n",
    "print(score_sorted)"
   ]
  },
  {
   "cell_type": "markdown",
   "metadata": {},
   "source": [
    "## 27. a의 값을 변경해가며 홀수 짝수를 구별하는 조건문을 만들어주세요."
   ]
  },
  {
   "cell_type": "code",
   "execution_count": null,
   "metadata": {},
   "outputs": [],
   "source": [
    "a = 0\n",
    "\n",
    "#TODO\n",
    "if True:\n",
    "    print(\"홀수\")\n",
    "else:\n",
    "    print(\"짝수\")"
   ]
  },
  {
   "cell_type": "markdown",
   "metadata": {},
   "source": [
    "## 28. 다음 회원 정보에서 서울, 경기, 그 외 세 단계로 구별하는 조건문을 만들어주세요"
   ]
  },
  {
   "cell_type": "code",
   "execution_count": null,
   "metadata": {},
   "outputs": [],
   "source": [
    "user = \"서울_남_23\"\n",
    "\n",
    "#TODO\n",
    "print(\"서울\")\n",
    "#TODO\n",
    "print(\"경기\")\n",
    "#TODO\n",
    "print(\"그 외\")"
   ]
  },
  {
   "cell_type": "markdown",
   "metadata": {},
   "source": [
    "## 29. 다음 회원 리스트에서, 서울 지역의 회원만 출력해주세요"
   ]
  },
  {
   "cell_type": "code",
   "execution_count": null,
   "metadata": {},
   "outputs": [],
   "source": [
    "users = [\"서울_남_23\", \"경기_여_33\", \"대전_남_12\", \"부산_여_26\",\"서울_여_31\"]\n",
    "\n",
    "for user in users:\n",
    "    print(user)"
   ]
  },
  {
   "cell_type": "markdown",
   "metadata": {},
   "source": [
    "## 30. 다음 회원 리스트에서, 홀수번째 회원들만 출력해주세요\n",
    "- 서울\\_남\\_23, 대전\\_남\\_12, 서울\\_여\\_31"
   ]
  },
  {
   "cell_type": "code",
   "execution_count": null,
   "metadata": {},
   "outputs": [],
   "source": [
    "users = [\"서울_남_23\", \"경기_여_33\", \"대전_남_12\", \"부산_여_26\",\"서울_여_31\"]\n",
    "\n",
    "for user in users:\n",
    "    print(user)"
   ]
  },
  {
   "cell_type": "markdown",
   "metadata": {},
   "source": [
    "## 31. 다음 동물들을 종류별로 세주세요."
   ]
  },
  {
   "cell_type": "code",
   "execution_count": null,
   "metadata": {},
   "outputs": [],
   "source": [
    "animals =[\"호랑이\",\"고양이\",\"호랑이\",\"당나귀\",\"말\",\"곰\",\"개\",\"말\",\"곰\",\"호랑이\"]\n",
    "animal_counts = {}\n",
    "for animal in animals:\n",
    "    #TODO\n",
    "    pass\n",
    "\n",
    "print(animal_counts)"
   ]
  },
  {
   "cell_type": "markdown",
   "metadata": {},
   "source": [
    "## 32. 다음 리스트에서 숫자 0이 처음 발견되는 순간 반복문을 멈춰주세요."
   ]
  },
  {
   "cell_type": "code",
   "execution_count": null,
   "metadata": {},
   "outputs": [],
   "source": [
    "numbers = [1,2,3,4,6,5,4,0,2,3,4,0,0,0,0,3,2]\n",
    "\n",
    "for number in numbers:\n",
    "    print(number)"
   ]
  },
  {
   "cell_type": "markdown",
   "metadata": {},
   "source": [
    "## 33. 다음 함수의 잘못된 부분을 수정해주세요."
   ]
  },
  {
   "cell_type": "code",
   "execution_count": null,
   "metadata": {},
   "outputs": [],
   "source": [
    "def test_func(a):\n",
    "    a*2\n",
    "    \n",
    "print(test_func(1))\n",
    "print(test_func(2))\n",
    "print(test_func(3))"
   ]
  },
  {
   "cell_type": "markdown",
   "metadata": {},
   "source": [
    "## 34. 다음 함수의 잘못된 부분을 수정해주세요.\n"
   ]
  },
  {
   "cell_type": "code",
   "execution_count": null,
   "metadata": {},
   "outputs": [],
   "source": [
    "\n",
    "a = 1\n",
    "def test_func(x):\n",
    "    return a*2\n",
    "    \n",
    "print(test_func(1))\n",
    "print(test_func(2))\n",
    "print(test_func(3))"
   ]
  },
  {
   "cell_type": "markdown",
   "metadata": {},
   "source": [
    "## 35. 변수를 입력을 받고 인사말을 하는 함수를 완성해주세요"
   ]
  },
  {
   "cell_type": "code",
   "execution_count": null,
   "metadata": {},
   "outputs": [],
   "source": [
    "#TODO\n",
    "def greeting():\n",
    "    print(\"안녕하세요 저는 000이고, 나이는 00이고, 고향은 00입니다\")\n",
    "    pass\n",
    "\n",
    "name=\"홍길동\"\n",
    "age=\"20\"\n",
    "hometown = \"장성군\"\n",
    "\n",
    "greeting()\n",
    "\n",
    "name=\"임꺽정\"\n",
    "age=\"20\"\n",
    "hometown = \"양주시\"\n",
    "\n",
    "greeting()"
   ]
  },
  {
   "cell_type": "code",
   "execution_count": null,
   "metadata": {},
   "outputs": [],
   "source": []
  },
  {
   "cell_type": "markdown",
   "metadata": {},
   "source": [
    "## 36. 다음 비트코인 가격 API에서 Max Price를 추출 해주세요"
   ]
  },
  {
   "cell_type": "code",
   "execution_count": null,
   "metadata": {},
   "outputs": [],
   "source": [
    "import requests\n",
    "btc = requests.get(\"https://api.bithumb.com/public/ticker/\").json()\n",
    "max_price = 0\n",
    "print(max_price)"
   ]
  },
  {
   "cell_type": "markdown",
   "metadata": {},
   "source": [
    "## 37. 다음 URL에 있는 이미지를 올바르게 가져 올 수 있도록 해주세요."
   ]
  },
  {
   "cell_type": "code",
   "execution_count": 4,
   "metadata": {},
   "outputs": [
    {
     "data": {
      "image/png": "[encoded data removed]",
      "text/plain": [
       "<IPython.core.display.Image object>"
      ]
     },
     "execution_count": 4,
     "metadata": {},
     "output_type": "execute_result"
    }
   ],
   "source": [
    "import requests\n",
    "from IPython import display\n",
    "\n",
    "url = \"https://image-comic.pstatic.net/static/agerate/age_15_white.jpg\"\n",
    "#TODO\n",
    "res = requests.get(url)\n",
    "display.Image(data=res.content, format='png', embed=True)"
   ]
  },
  {
   "cell_type": "markdown",
   "metadata": {},
   "source": [
    "## 38. 다음 위키피디아 페이지에서 a 엘리먼트를 모두 추출해주세요"
   ]
  },
  {
   "cell_type": "code",
   "execution_count": null,
   "metadata": {},
   "outputs": [],
   "source": [
    "from bs4 import BeautifulSoup\n",
    "\n",
    "url = \"https://ko.wikipedia.org/wiki/%EB%B9%85_%EB%8D%B0%EC%9D%B4%ED%84%B0\"\n",
    "res = requests.get(url)\n",
    "soup = BeautifulSoup(res.text, 'html.parser')\n",
    "#TODO\n",
    "a_tags = []\n",
    "print(a_tags)"
   ]
  },
  {
   "cell_type": "markdown",
   "metadata": {},
   "source": [
    "## 39. 다음 문장에서 불용어를 모두 제거해주세요."
   ]
  },
  {
   "cell_type": "code",
   "execution_count": null,
   "metadata": {},
   "outputs": [],
   "source": [
    "text = \"\"\"\n",
    "Big data is a field that treats ways to analyze, \n",
    "systematically extract information from, \n",
    "or otherwise deal with data sets that are too large or complex to be dealt with \n",
    "by traditional data-processing application software. Data with many fields (columns) \n",
    "offer greater statistical power, while data with higher complexity \n",
    "(more attributes or columns) may lead to a higher false discovery rate.\n",
    "Big data analysis challenges include capturing data, data storage, data analysis, search, sharing, \n",
    "transfer, visualization, querying, updating, information privacy, and data source.\"\"\"\n",
    "\n",
    "stop_words = [\"is\", \"a\", \"that\",\"to\", \"with\",\"or\", \"are\", \"and\", \"by\", \"be\"]\n",
    "\n",
    "\n",
    "#TODO\n",
    "\n",
    "filtered_text = \"\"\n",
    "print(filtered_text)\n",
    "\n"
   ]
  },
  {
   "cell_type": "markdown",
   "metadata": {},
   "source": [
    "## 40. 다음 이미지에 가로로 50px 마다 빨간선을 그려주세요\n",
    "- 가로 선이 위에서 아래로 50px마다"
   ]
  },
  {
   "cell_type": "code",
   "execution_count": null,
   "metadata": {},
   "outputs": [],
   "source": [
    "import cv2\n",
    "import numpy as np\n",
    "import requests\n",
    "from PIL import Image\n",
    "\n",
    "url = \"https://upload.wikimedia.org/wikipedia/commons/thumb/0/0b/Cat_poster_1.jpg/300px-Cat_poster_1.jpg\"\n",
    "\n",
    "image_nparray = np.asarray(bytearray(requests.get(url).content), dtype=np.uint8)\n",
    "img = cv2.imdecode(image_nparray, cv2.IMREAD_COLOR)\n",
    "\n",
    "#TODO\n",
    "\n",
    "img = cv2.cvtColor(img, cv2.COLOR_BGR2RGB)\n",
    "Image.fromarray(img)"
   ]
  },
  {
   "cell_type": "code",
   "execution_count": null,
   "metadata": {},
   "outputs": [],
   "source": []
  }
 ],
 "metadata": {
  "kernelspec": {
   "display_name": "Python 3",
   "language": "python",
   "name": "python3"
  },
  "language_info": {
   "codemirror_mode": {
    "name": "ipython",
    "version": 3
   },
   "file_extension": ".py",
   "mimetype": "text/x-python",
   "name": "python",
   "nbconvert_exporter": "python",
   "pygments_lexer": "ipython3",
   "version": "3.7.6"
  }
 },
 "nbformat": 4,
 "nbformat_minor": 4
}
